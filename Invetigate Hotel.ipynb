{
 "cells": [
  {
   "cell_type": "code",
   "execution_count": 1,
   "id": "170ddcc2-ce1f-4d4b-b082-edf2564c3d3d",
   "metadata": {},
   "outputs": [],
   "source": [
    "import numpy as np\n",
    "import pandas as pd\n",
    "import seaborn as sns\n",
    "import matplotlib.pyplot as plt"
   ]
  },
  {
   "cell_type": "code",
   "execution_count": 2,
   "id": "1ee56bfc-0ab5-4512-837e-8c79b4a1bbc8",
   "metadata": {},
   "outputs": [],
   "source": [
    "df = pd.read_csv('hotel_bookings_data.csv')"
   ]
  },
  {
   "cell_type": "code",
   "execution_count": 3,
   "id": "02461d7e-cc71-446b-9f1e-7988568f6057",
   "metadata": {},
   "outputs": [
    {
     "data": {
      "text/html": [
       "<div>\n",
       "<style scoped>\n",
       "    .dataframe tbody tr th:only-of-type {\n",
       "        vertical-align: middle;\n",
       "    }\n",
       "\n",
       "    .dataframe tbody tr th {\n",
       "        vertical-align: top;\n",
       "    }\n",
       "\n",
       "    .dataframe thead th {\n",
       "        text-align: right;\n",
       "    }\n",
       "</style>\n",
       "<table border=\"1\" class=\"dataframe\">\n",
       "  <thead>\n",
       "    <tr style=\"text-align: right;\">\n",
       "      <th></th>\n",
       "      <th>hotel</th>\n",
       "      <th>is_canceled</th>\n",
       "      <th>lead_time</th>\n",
       "      <th>arrival_date_year</th>\n",
       "      <th>arrival_date_month</th>\n",
       "      <th>arrival_date_week_number</th>\n",
       "      <th>arrival_date_day_of_month</th>\n",
       "      <th>stays_in_weekend_nights</th>\n",
       "      <th>stays_in_weekdays_nights</th>\n",
       "      <th>adults</th>\n",
       "      <th>...</th>\n",
       "      <th>booking_changes</th>\n",
       "      <th>deposit_type</th>\n",
       "      <th>agent</th>\n",
       "      <th>company</th>\n",
       "      <th>days_in_waiting_list</th>\n",
       "      <th>customer_type</th>\n",
       "      <th>adr</th>\n",
       "      <th>required_car_parking_spaces</th>\n",
       "      <th>total_of_special_requests</th>\n",
       "      <th>reservation_status</th>\n",
       "    </tr>\n",
       "  </thead>\n",
       "  <tbody>\n",
       "    <tr>\n",
       "      <th>0</th>\n",
       "      <td>Resort Hotel</td>\n",
       "      <td>0</td>\n",
       "      <td>342</td>\n",
       "      <td>2017</td>\n",
       "      <td>September</td>\n",
       "      <td>27</td>\n",
       "      <td>1</td>\n",
       "      <td>0</td>\n",
       "      <td>0</td>\n",
       "      <td>2</td>\n",
       "      <td>...</td>\n",
       "      <td>3</td>\n",
       "      <td>No Deposit</td>\n",
       "      <td>NaN</td>\n",
       "      <td>NaN</td>\n",
       "      <td>0</td>\n",
       "      <td>Personal</td>\n",
       "      <td>0.0</td>\n",
       "      <td>0</td>\n",
       "      <td>0</td>\n",
       "      <td>Check-Out</td>\n",
       "    </tr>\n",
       "    <tr>\n",
       "      <th>1</th>\n",
       "      <td>Resort Hotel</td>\n",
       "      <td>0</td>\n",
       "      <td>737</td>\n",
       "      <td>2017</td>\n",
       "      <td>September</td>\n",
       "      <td>27</td>\n",
       "      <td>1</td>\n",
       "      <td>0</td>\n",
       "      <td>0</td>\n",
       "      <td>2</td>\n",
       "      <td>...</td>\n",
       "      <td>4</td>\n",
       "      <td>No Deposit</td>\n",
       "      <td>NaN</td>\n",
       "      <td>NaN</td>\n",
       "      <td>0</td>\n",
       "      <td>Personal</td>\n",
       "      <td>0.0</td>\n",
       "      <td>0</td>\n",
       "      <td>0</td>\n",
       "      <td>Check-Out</td>\n",
       "    </tr>\n",
       "    <tr>\n",
       "      <th>2</th>\n",
       "      <td>Resort Hotel</td>\n",
       "      <td>0</td>\n",
       "      <td>7</td>\n",
       "      <td>2017</td>\n",
       "      <td>September</td>\n",
       "      <td>27</td>\n",
       "      <td>1</td>\n",
       "      <td>0</td>\n",
       "      <td>1</td>\n",
       "      <td>1</td>\n",
       "      <td>...</td>\n",
       "      <td>0</td>\n",
       "      <td>No Deposit</td>\n",
       "      <td>NaN</td>\n",
       "      <td>NaN</td>\n",
       "      <td>0</td>\n",
       "      <td>Personal</td>\n",
       "      <td>75.0</td>\n",
       "      <td>0</td>\n",
       "      <td>0</td>\n",
       "      <td>Check-Out</td>\n",
       "    </tr>\n",
       "    <tr>\n",
       "      <th>3</th>\n",
       "      <td>Resort Hotel</td>\n",
       "      <td>0</td>\n",
       "      <td>13</td>\n",
       "      <td>2017</td>\n",
       "      <td>September</td>\n",
       "      <td>27</td>\n",
       "      <td>1</td>\n",
       "      <td>0</td>\n",
       "      <td>1</td>\n",
       "      <td>1</td>\n",
       "      <td>...</td>\n",
       "      <td>0</td>\n",
       "      <td>No Deposit</td>\n",
       "      <td>304.0</td>\n",
       "      <td>NaN</td>\n",
       "      <td>0</td>\n",
       "      <td>Personal</td>\n",
       "      <td>75.0</td>\n",
       "      <td>0</td>\n",
       "      <td>0</td>\n",
       "      <td>Check-Out</td>\n",
       "    </tr>\n",
       "    <tr>\n",
       "      <th>4</th>\n",
       "      <td>Resort Hotel</td>\n",
       "      <td>0</td>\n",
       "      <td>14</td>\n",
       "      <td>2017</td>\n",
       "      <td>September</td>\n",
       "      <td>27</td>\n",
       "      <td>1</td>\n",
       "      <td>0</td>\n",
       "      <td>2</td>\n",
       "      <td>2</td>\n",
       "      <td>...</td>\n",
       "      <td>0</td>\n",
       "      <td>No Deposit</td>\n",
       "      <td>240.0</td>\n",
       "      <td>NaN</td>\n",
       "      <td>0</td>\n",
       "      <td>Personal</td>\n",
       "      <td>98.0</td>\n",
       "      <td>0</td>\n",
       "      <td>1</td>\n",
       "      <td>Check-Out</td>\n",
       "    </tr>\n",
       "  </tbody>\n",
       "</table>\n",
       "<p>5 rows × 29 columns</p>\n",
       "</div>"
      ],
      "text/plain": [
       "          hotel  is_canceled  lead_time  arrival_date_year arrival_date_month  \\\n",
       "0  Resort Hotel            0        342               2017          September   \n",
       "1  Resort Hotel            0        737               2017          September   \n",
       "2  Resort Hotel            0          7               2017          September   \n",
       "3  Resort Hotel            0         13               2017          September   \n",
       "4  Resort Hotel            0         14               2017          September   \n",
       "\n",
       "   arrival_date_week_number  arrival_date_day_of_month  \\\n",
       "0                        27                          1   \n",
       "1                        27                          1   \n",
       "2                        27                          1   \n",
       "3                        27                          1   \n",
       "4                        27                          1   \n",
       "\n",
       "   stays_in_weekend_nights  stays_in_weekdays_nights  adults  ...  \\\n",
       "0                        0                         0       2  ...   \n",
       "1                        0                         0       2  ...   \n",
       "2                        0                         1       1  ...   \n",
       "3                        0                         1       1  ...   \n",
       "4                        0                         2       2  ...   \n",
       "\n",
       "   booking_changes  deposit_type  agent company days_in_waiting_list  \\\n",
       "0                3    No Deposit    NaN     NaN                    0   \n",
       "1                4    No Deposit    NaN     NaN                    0   \n",
       "2                0    No Deposit    NaN     NaN                    0   \n",
       "3                0    No Deposit  304.0     NaN                    0   \n",
       "4                0    No Deposit  240.0     NaN                    0   \n",
       "\n",
       "  customer_type   adr  required_car_parking_spaces  total_of_special_requests  \\\n",
       "0      Personal   0.0                            0                          0   \n",
       "1      Personal   0.0                            0                          0   \n",
       "2      Personal  75.0                            0                          0   \n",
       "3      Personal  75.0                            0                          0   \n",
       "4      Personal  98.0                            0                          1   \n",
       "\n",
       "   reservation_status  \n",
       "0           Check-Out  \n",
       "1           Check-Out  \n",
       "2           Check-Out  \n",
       "3           Check-Out  \n",
       "4           Check-Out  \n",
       "\n",
       "[5 rows x 29 columns]"
      ]
     },
     "execution_count": 3,
     "metadata": {},
     "output_type": "execute_result"
    }
   ],
   "source": [
    "df.head()"
   ]
  },
  {
   "cell_type": "code",
   "execution_count": 4,
   "id": "c0b21b05-b578-4027-83f2-f2161b3a130f",
   "metadata": {},
   "outputs": [
    {
     "name": "stdout",
     "output_type": "stream",
     "text": [
      "<class 'pandas.core.frame.DataFrame'>\n",
      "RangeIndex: 119390 entries, 0 to 119389\n",
      "Data columns (total 29 columns):\n",
      " #   Column                          Non-Null Count   Dtype  \n",
      "---  ------                          --------------   -----  \n",
      " 0   hotel                           119390 non-null  object \n",
      " 1   is_canceled                     119390 non-null  int64  \n",
      " 2   lead_time                       119390 non-null  int64  \n",
      " 3   arrival_date_year               119390 non-null  int64  \n",
      " 4   arrival_date_month              119390 non-null  object \n",
      " 5   arrival_date_week_number        119390 non-null  int64  \n",
      " 6   arrival_date_day_of_month       119390 non-null  int64  \n",
      " 7   stays_in_weekend_nights         119390 non-null  int64  \n",
      " 8   stays_in_weekdays_nights        119390 non-null  int64  \n",
      " 9   adults                          119390 non-null  int64  \n",
      " 10  children                        119386 non-null  float64\n",
      " 11  babies                          119390 non-null  int64  \n",
      " 12  meal                            119390 non-null  object \n",
      " 13  city                            118902 non-null  object \n",
      " 14  market_segment                  119390 non-null  object \n",
      " 15  distribution_channel            119390 non-null  object \n",
      " 16  is_repeated_guest               119390 non-null  int64  \n",
      " 17  previous_cancellations          119390 non-null  int64  \n",
      " 18  previous_bookings_not_canceled  119390 non-null  int64  \n",
      " 19  booking_changes                 119390 non-null  int64  \n",
      " 20  deposit_type                    119390 non-null  object \n",
      " 21  agent                           103050 non-null  float64\n",
      " 22  company                         6797 non-null    float64\n",
      " 23  days_in_waiting_list            119390 non-null  int64  \n",
      " 24  customer_type                   119390 non-null  object \n",
      " 25  adr                             119390 non-null  float64\n",
      " 26  required_car_parking_spaces     119390 non-null  int64  \n",
      " 27  total_of_special_requests       119390 non-null  int64  \n",
      " 28  reservation_status              119390 non-null  object \n",
      "dtypes: float64(4), int64(16), object(9)\n",
      "memory usage: 26.4+ MB\n"
     ]
    }
   ],
   "source": [
    "df.info()"
   ]
  },
  {
   "cell_type": "code",
   "execution_count": 10,
   "id": "b72f906f-4ec5-45f2-a3e5-eb6cebf1174b",
   "metadata": {},
   "outputs": [
    {
     "data": {
      "text/plain": [
       "hotel                                  0\n",
       "is_canceled                            0\n",
       "lead_time                              0\n",
       "arrival_date_year                      0\n",
       "arrival_date_month                     0\n",
       "arrival_date_week_number               0\n",
       "arrival_date_day_of_month              0\n",
       "stays_in_weekend_nights                0\n",
       "stays_in_weekdays_nights               0\n",
       "adults                                 0\n",
       "children                               4\n",
       "babies                                 0\n",
       "meal                                   0\n",
       "city                                 488\n",
       "market_segment                         0\n",
       "distribution_channel                   0\n",
       "is_repeated_guest                      0\n",
       "previous_cancellations                 0\n",
       "previous_bookings_not_canceled         0\n",
       "booking_changes                        0\n",
       "deposit_type                           0\n",
       "agent                              16340\n",
       "company                           112593\n",
       "days_in_waiting_list                   0\n",
       "customer_type                          0\n",
       "adr                                    0\n",
       "required_car_parking_spaces            0\n",
       "total_of_special_requests              0\n",
       "reservation_status                     0\n",
       "dtype: int64"
      ]
     },
     "execution_count": 10,
     "metadata": {},
     "output_type": "execute_result"
    }
   ],
   "source": [
    "df.isnull().sum()"
   ]
  },
  {
   "cell_type": "code",
   "execution_count": 6,
   "id": "aa683863-e553-4940-9746-51dd165f81e6",
   "metadata": {},
   "outputs": [
    {
     "name": "stdout",
     "output_type": "stream",
     "text": [
      "Persentase missing value per kolom:\n",
      "hotel                              0.000000\n",
      "is_canceled                        0.000000\n",
      "lead_time                          0.000000\n",
      "arrival_date_year                  0.000000\n",
      "arrival_date_month                 0.000000\n",
      "arrival_date_week_number           0.000000\n",
      "arrival_date_day_of_month          0.000000\n",
      "stays_in_weekend_nights            0.000000\n",
      "stays_in_weekdays_nights           0.000000\n",
      "adults                             0.000000\n",
      "children                           0.003350\n",
      "babies                             0.000000\n",
      "meal                               0.000000\n",
      "city                               0.408744\n",
      "market_segment                     0.000000\n",
      "distribution_channel               0.000000\n",
      "is_repeated_guest                  0.000000\n",
      "previous_cancellations             0.000000\n",
      "previous_bookings_not_canceled     0.000000\n",
      "booking_changes                    0.000000\n",
      "deposit_type                       0.000000\n",
      "agent                             13.686238\n",
      "company                           94.306893\n",
      "days_in_waiting_list               0.000000\n",
      "customer_type                      0.000000\n",
      "adr                                0.000000\n",
      "required_car_parking_spaces        0.000000\n",
      "total_of_special_requests          0.000000\n",
      "reservation_status                 0.000000\n",
      "dtype: float64\n"
     ]
    }
   ],
   "source": [
    "# Menampilkan persentase missing value per kolom\n",
    "missing_percentage = (missing_values / len(df)) * 100\n",
    "print(\"Persentase missing value per kolom:\")\n",
    "print(missing_percentage)"
   ]
  },
  {
   "cell_type": "code",
   "execution_count": 14,
   "id": "62a64554-ddde-4624-945b-e6dcfada72b2",
   "metadata": {},
   "outputs": [],
   "source": [
    "# DRop Columns Missing Value 90%\n",
    "delete = ['company']\n",
    "df = df.drop(delete, axis=1)"
   ]
  },
  {
   "cell_type": "code",
   "execution_count": 15,
   "id": "63c32a13-f056-4637-a6d9-8a8b82b6dd5a",
   "metadata": {},
   "outputs": [
    {
     "data": {
      "text/plain": [
       "hotel                                 0\n",
       "is_canceled                           0\n",
       "lead_time                             0\n",
       "arrival_date_year                     0\n",
       "arrival_date_month                    0\n",
       "arrival_date_week_number              0\n",
       "arrival_date_day_of_month             0\n",
       "stays_in_weekend_nights               0\n",
       "stays_in_weekdays_nights              0\n",
       "adults                                0\n",
       "children                              4\n",
       "babies                                0\n",
       "meal                                  0\n",
       "city                                488\n",
       "market_segment                        0\n",
       "distribution_channel                  0\n",
       "is_repeated_guest                     0\n",
       "previous_cancellations                0\n",
       "previous_bookings_not_canceled        0\n",
       "booking_changes                       0\n",
       "deposit_type                          0\n",
       "agent                             16340\n",
       "days_in_waiting_list                  0\n",
       "customer_type                         0\n",
       "adr                                   0\n",
       "required_car_parking_spaces           0\n",
       "total_of_special_requests             0\n",
       "reservation_status                    0\n",
       "dtype: int64"
      ]
     },
     "execution_count": 15,
     "metadata": {},
     "output_type": "execute_result"
    }
   ],
   "source": [
    "df.isnull().sum()"
   ]
  },
  {
   "cell_type": "code",
   "execution_count": 16,
   "id": "dd1e1766-55d5-49c0-9fe9-3a607df7cd35",
   "metadata": {},
   "outputs": [],
   "source": [
    "df['children'].fillna(0, inplace= True)\n",
    "df['city'].fillna(df['city'].mode()[0], inplace= True)\n",
    "df['agent'].fillna(0, inplace= True)"
   ]
  },
  {
   "cell_type": "markdown",
   "id": "1cc511e3-9b51-4bc4-891c-bb9c38c74582",
   "metadata": {},
   "source": [
    "# Handling Invalid Values"
   ]
  },
  {
   "cell_type": "code",
   "execution_count": 17,
   "id": "f663dc16-cc07-452e-b88f-e92b79befe6f",
   "metadata": {},
   "outputs": [
    {
     "data": {
      "text/plain": [
       "array(['Breakfast', 'Full Board', 'Dinner', 'No Meal', 'Undefined'],\n",
       "      dtype=object)"
      ]
     },
     "execution_count": 17,
     "metadata": {},
     "output_type": "execute_result"
    }
   ],
   "source": [
    "df['meal'].unique()"
   ]
  },
  {
   "cell_type": "code",
   "execution_count": 18,
   "id": "0504bb02-c480-4e3f-b829-5dd79d30e42c",
   "metadata": {},
   "outputs": [],
   "source": [
    "df['meal'].replace('Undefined','No Meal',inplace=True)"
   ]
  },
  {
   "cell_type": "markdown",
   "id": "3da0070c-8177-433c-8dcc-a0bd241669e0",
   "metadata": {},
   "source": [
    "# Handling Unnecessary Data"
   ]
  },
  {
   "cell_type": "code",
   "execution_count": 19,
   "id": "db48df1b-364c-417a-a8fd-eca47e83a86e",
   "metadata": {},
   "outputs": [],
   "source": [
    "df['Total Customer'] = df['adults'] + df['children'] + df['babies']\n",
    "df = df.drop(df[df['Total Customer'] == 0].index)"
   ]
  },
  {
   "cell_type": "markdown",
   "id": "59e8086f-0e48-4e2b-8fc1-c489d3407e8f",
   "metadata": {},
   "source": [
    "# Handling Type Data"
   ]
  },
  {
   "cell_type": "code",
   "execution_count": 20,
   "id": "7cfbe81c-ef1c-48eb-a356-8f7f1f340468",
   "metadata": {},
   "outputs": [],
   "source": [
    "df['children'] = df['children'].astype('int64')\n",
    "df['agent'] = df['agent'].astype('int64')"
   ]
  },
  {
   "cell_type": "code",
   "execution_count": null,
   "id": "2e2b3558-0a33-4d68-b0b0-1eea0743695e",
   "metadata": {},
   "outputs": [],
   "source": []
  }
 ],
 "metadata": {
  "kernelspec": {
   "display_name": "Python 3 (ipykernel)",
   "language": "python",
   "name": "python3"
  },
  "language_info": {
   "codemirror_mode": {
    "name": "ipython",
    "version": 3
   },
   "file_extension": ".py",
   "mimetype": "text/x-python",
   "name": "python",
   "nbconvert_exporter": "python",
   "pygments_lexer": "ipython3",
   "version": "3.10.9"
  }
 },
 "nbformat": 4,
 "nbformat_minor": 5
}
